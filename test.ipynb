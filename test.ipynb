{
 "metadata": {
  "language_info": {
   "codemirror_mode": {
    "name": "ipython",
    "version": 3
   },
   "file_extension": ".py",
   "mimetype": "text/x-python",
   "name": "python",
   "nbconvert_exporter": "python",
   "pygments_lexer": "ipython3",
   "version": 3
  },
  "orig_nbformat": 2
 },
 "nbformat": 4,
 "nbformat_minor": 2,
 "cells": [
  {
   "cell_type": "code",
   "execution_count": null,
   "metadata": {},
   "outputs": [],
   "source": [
    "import panel as pn\n",
    "import sys\n",
    "from wbib import wbib\n",
    "import requests\n",
    "from pybtex.database.input import bibtex\n",
    "from tqdm import tqdm\n",
    "import time\n",
    "\n",
    "pn.extension()\n",
    "\n"
   ]
  },
  {
   "cell_type": "code",
   "execution_count": null,
   "metadata": {},
   "outputs": [],
   "source": [
    "file_input = pn.widgets.FileInput(filename=\"bibtex.bib\")\n",
    "if file_input.value is not None:\n",
    "    file_input.save('bibtex.bib')\n",
    "\n",
    "pn.Column(\n",
    "    pn.widgets.FileDownload(file='test.bib', embed=True),\n",
    "    pn.Row(file_input),\n",
    "    pn.widgets.FileDownload(file='error_log.txt', embed=True)\n",
    ").servable()"
   ]
  }
 ]
}