{
 "metadata": {
  "language_info": {
   "codemirror_mode": {
    "name": "ipython",
    "version": 3
   },
   "file_extension": ".py",
   "mimetype": "text/x-python",
   "name": "python",
   "nbconvert_exporter": "python",
   "pygments_lexer": "ipython3",
   "version": 3
  },
  "orig_nbformat": 2
 },
 "nbformat": 4,
 "nbformat_minor": 2,
 "cells": [
  {
   "cell_type": "code",
   "execution_count": null,
   "metadata": {},
   "outputs": [],
   "source": [
    "import sys\n",
    "from wbib import wbib\n",
    "import requests\n",
    "from pybtex.database.input import bibtex\n",
    "from tqdm import tqdm\n",
    "import time\n",
    "\n",
    "def get_qid_for_title(title):\n",
    "    \"\"\"\n",
    "    Gets the best Wikidata candidate from the title of the paper. \n",
    "    \"\"\"\n",
    "    api_call = f\"https://www.wikidata.org/w/api.php?action=wbsearchentities&search={title}&language=en&format=json\"\n",
    "    api_result = requests.get(api_call).json()\n",
    "    if api_result[\"success\"] == 1:\n",
    "        return(api_result[\"search\"][0][\"id\"])\n",
    "\n",
    "\n",
    "parser = bibtex.Parser()\n",
    "bibtexFile= parser.parse_file(sys.argv[1])   \n",
    "\n",
    "list_of_qids = []\n",
    "print(\"===== Querying Wikidata to get IDs =====\")\n",
    "with open(\"error_log.txt\", \"w\") as f:\n",
    "    f.write(\"Titles that were not found on Wikidata: \\n\")\n",
    "    for i in tqdm(bibtexFile.entries):\n",
    "        title = bibtexFile.entries[i].fields[\"title\"]\n",
    "        title = title.replace(\"{\", \"\")\n",
    "        title = title.replace(\"}\", \"\")\n",
    "        try:\n",
    "            list_of_qids.append(get_qid_for_title(title))\n",
    "        except:\n",
    "            tqdm.write(f\"Failed for {title}\")\n",
    "            f.write(f\"{title}\\n\")\n",
    "        time.sleep(0.3)\n",
    "\n",
    "with open(\"index.html\", \"w\") as f:\n",
    "    html = wbib.render_dashboard(list_of_qids)\n",
    "    f.write(html)"
   ]
  }
 ]
}